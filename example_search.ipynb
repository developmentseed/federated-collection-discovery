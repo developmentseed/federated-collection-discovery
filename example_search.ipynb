{
 "cells": [
  {
   "cell_type": "code",
   "execution_count": 1,
   "id": "4609fbbf-2306-450b-a10a-e327334ddec2",
   "metadata": {},
   "outputs": [],
   "source": [
    "import httpx\n",
    "import pandas as pd\n",
    "from IPython.display import display, HTML\n",
    "\n",
    "API_URL = \"http://localhost:8000\""
   ]
  },
  {
   "cell_type": "code",
   "execution_count": 2,
   "id": "8afa9152-b043-407a-b1d3-e73c5a8b881a",
   "metadata": {},
   "outputs": [
    {
     "data": {
      "text/html": [
       "<table border=\"1\" class=\"dataframe\">\n",
       "  <thead>\n",
       "    <tr style=\"text-align: right;\">\n",
       "      <th></th>\n",
       "      <th>id</th>\n",
       "      <th>catalog_url</th>\n",
       "      <th>title</th>\n",
       "      <th>spatial_extent</th>\n",
       "      <th>temporal_extent</th>\n",
       "      <th>short_name</th>\n",
       "      <th>description</th>\n",
       "      <th>keywords</th>\n",
       "      <th>hint</th>\n",
       "    </tr>\n",
       "  </thead>\n",
       "  <tbody>\n",
       "    <tr>\n",
       "      <th>0</th>\n",
       "      <td>ABoVE_UAVSAR_PALSAR</td>\n",
       "      <td>https://stac.maap-project.org/</td>\n",
       "      <td>Arctic-Boreal Vulnerability Experiment Uninhabited Aerial Vehicle Synthetic Aperture Radar Polarimetric SAR</td>\n",
       "      <td>[[-166.788382, 69.708769, -110.947561, 59.729364]]</td>\n",
       "      <td>[[2017-06-13T22:03:35Z, 2017-06-22T19:25:35Z]]</td>\n",
       "      <td>None</td>\n",
       "      <td>The Arctic-Boreal Vulnerability Experiment (ABoVE) is a NASA Terrestrial Ecology Program field campaign conducted from June through September 2017 over Alaska and Western Canada. ABoVE is a large-scale study of environmental change and to assess the vulnerability and resilience of Arctic and boreal ecosystems and provide scientific bases for societal response decision making.  ABoVE utilized the Uninhabited Aerial Vehicle Synthetic Aperture Radar (UAVSAR) Polarimetric SAR (PALSAR) instrument to provide image transects to survey the land surface, hydrological systems and vegetation.  SAR products in this collection include the Digital Elevation Model (DEM), the local incidence angle, the terrain slope product, ground projected complex cross products, the compressed stokes matrix, pauli decompositions, multi-look cross products, and scene annotation files.</td>\n",
       "      <td>[]</td>\n",
       "      <td>None</td>\n",
       "    </tr>\n",
       "    <tr>\n",
       "      <th>1</th>\n",
       "      <td>SRTMGL1_COD</td>\n",
       "      <td>https://stac.maap-project.org/</td>\n",
       "      <td>NASA Shuttle Radar Topography Mission Global 1</td>\n",
       "      <td>[[-180.0, -56.0, 180.0, 60.0]]</td>\n",
       "      <td>[[2000-02-11T00:00:00Z, 2000-02-21T23:59:59.999000Z]]</td>\n",
       "      <td>None</td>\n",
       "      <td>NASA Shuttle Radar Topography Mission (SRTM) datasets result from a collaborative effort by the National Aeronautics and Space Administration (NASA) and the National Geospatial-Intelligence Agency (NGA - previously known as the National Imagery and Mapping Agency, or NIMA), as well as the participation of the German and Italian space agencies. The purpose of SRTM was to generate a near-global digital elevation model (DEM) of the Earth using radar interferometry. SRTM was a primary component of the payload on the Space Shuttle Endeavour during its STS-99 mission. Endeavour launched February 11, 2000 and ﬂew for 11 days.</td>\n",
       "      <td>[SRTM]</td>\n",
       "      <td>None</td>\n",
       "    </tr>\n",
       "    <tr>\n",
       "      <th>2</th>\n",
       "      <td>COP-DEM</td>\n",
       "      <td>https://catalogue.dataspace.copernicus.eu/stac</td>\n",
       "      <td>COP-DEM</td>\n",
       "      <td>[[-180.0, -90.0, 180.0, 90.0]]</td>\n",
       "      <td>[[2010-12-12T00:00:00Z, None]]</td>\n",
       "      <td>None</td>\n",
       "      <td>The Copernicus DEM is a Digital Surface Model (DSM) that represents the surface of the Earth including buildings, infrastructure and vegetation. Data were acquired through the TanDEM-X mission between 2011 and 2015 [https://spacedata.copernicus.eu/collections/copernicus-digital-elevation-model].</td>\n",
       "      <td>[]</td>\n",
       "      <td>None</td>\n",
       "    </tr>\n",
       "  </tbody>\n",
       "</table>"
      ],
      "text/plain": [
       "<IPython.core.display.HTML object>"
      ]
     },
     "metadata": {},
     "output_type": "display_data"
    }
   ],
   "source": [
    "# search with a free-text filter for collections that include\n",
    "# 'elevation' OR 'DEM' but not 'biomass'\n",
    "search_request = httpx.get(\n",
    "    f\"{API_URL}/search\",\n",
    "    params={\"q\": \"(elevation OR DEM) -biomass\"},\n",
    "    timeout=20,\n",
    ")\n",
    "search_request.raise_for_status()\n",
    "search_results = search_request.json()\n",
    "\n",
    "display(HTML(pd.DataFrame(search_results[\"results\"]).to_html()))"
   ]
  },
  {
   "cell_type": "code",
   "execution_count": 3,
   "id": "19638d6f-b5ce-4cf1-ac7c-94c2be1c06a2",
   "metadata": {},
   "outputs": [
    {
     "data": {
      "text/html": [
       "<table border=\"1\" class=\"dataframe\">\n",
       "  <thead>\n",
       "    <tr style=\"text-align: right;\">\n",
       "      <th></th>\n",
       "      <th>id</th>\n",
       "      <th>catalog_url</th>\n",
       "      <th>title</th>\n",
       "      <th>spatial_extent</th>\n",
       "      <th>temporal_extent</th>\n",
       "      <th>short_name</th>\n",
       "      <th>description</th>\n",
       "      <th>keywords</th>\n",
       "      <th>hint</th>\n",
       "    </tr>\n",
       "  </thead>\n",
       "  <tbody>\n",
       "    <tr>\n",
       "      <th>0</th>\n",
       "      <td>ESACCI_Biomass_L4_AGB_V4_100m</td>\n",
       "      <td>https://stac.maap-project.org/</td>\n",
       "      <td>ESA CCI Above-Ground Biomass Product Level 4 Version 4</td>\n",
       "      <td>[[-180.0, -90.0, 180.0, 90.0]]</td>\n",
       "      <td>[[2017-01-01T00:00:00Z, 2020-12-31T23:59:59.999000Z]]</td>\n",
       "      <td>None</td>\n",
       "      <td>This dataset comprises estimates of forest above-ground biomass for the years 2017, 2018, 2019 and 2020, version 4. They are derived from a combination of Earth observation data, depending on the year, from the Copernicus Sentinel-1 mission, Envisat’s ASAR instrument and JAXA’s Advanced Land Observing Satellite (ALOS-1 and ALOS-2), along with additional information from Earth observation sources. The data has been produced as part of the European Space Agency's (ESA's) Climate Change Initiative (CCI) programme by the Biomass CCI team.</td>\n",
       "      <td>[ESA, CCI, Biomass]</td>\n",
       "      <td>None</td>\n",
       "    </tr>\n",
       "  </tbody>\n",
       "</table>"
      ],
      "text/plain": [
       "<IPython.core.display.HTML object>"
      ]
     },
     "metadata": {},
     "output_type": "display_data"
    }
   ],
   "source": [
    "# search with a bounding box filter for Ecuador\n",
    "# for collections with 'biomass' in the metadata\n",
    "# but not collections with 'GEDI'\n",
    "search_request = httpx.get(\n",
    "    f\"{API_URL}/search\",\n",
    "    params={\n",
    "        \"bbox\": \"-84.837,-5.433,-72.662,2.301\",\n",
    "        \"q\": \"biomass -GEDI\",\n",
    "    },\n",
    "    timeout=20,\n",
    ")\n",
    "search_request.raise_for_status()\n",
    "search_results = search_request.json()\n",
    "\n",
    "display(HTML(pd.DataFrame(search_results[\"results\"]).to_html()))"
   ]
  },
  {
   "cell_type": "code",
   "execution_count": 5,
   "id": "feb6049f-40f4-427f-b698-361299362c5e",
   "metadata": {},
   "outputs": [
    {
     "data": {
      "text/html": [
       "<table border=\"1\" class=\"dataframe\">\n",
       "  <thead>\n",
       "    <tr style=\"text-align: right;\">\n",
       "      <th></th>\n",
       "      <th>id</th>\n",
       "      <th>catalog_url</th>\n",
       "      <th>title</th>\n",
       "      <th>spatial_extent</th>\n",
       "      <th>temporal_extent</th>\n",
       "      <th>short_name</th>\n",
       "      <th>description</th>\n",
       "      <th>keywords</th>\n",
       "      <th>hint</th>\n",
       "    </tr>\n",
       "  </thead>\n",
       "  <tbody>\n",
       "    <tr>\n",
       "      <th>0</th>\n",
       "      <td>OPERA_L3_DIST-ALERT-HLS_V1_1</td>\n",
       "      <td>https://cmr.earthdata.nasa.gov/stac/LPCLOUD</td>\n",
       "      <td>OPERA Land Surface Disturbance Alert from Harmonized Landsat Sentinel-2 product (Version 1)</td>\n",
       "      <td>[[-180, -90, 180, 90]]</td>\n",
       "      <td>[[2022-01-01T00:00:00Z, None]]</td>\n",
       "      <td>None</td>\n",
       "      <td>The Observational Products for End-Users from Remote Sensing Analysis (OPERA) Land Surface Disturbance Alert from Harmonized Landsat Sentinel-2 (HLS) product Version 1 maps vegetation disturbance alerts that are derived from data collected by Landsat 8 and Landsat 9 Operational Land Imager (OLI) and Sentinel-2A and Sentinel-2B Multi-Spectral Instrument (MSI). A vegetation disturbance alert is detected at 30 meter (m) spatial resolution when there is an indicated decrease in vegetation cover within an HLS pixel. The Level-3 data product also provides additional information about more general disturbance trends and auxiliary generic disturbance information as determined from the variations of the reflectance through the HLS scenes. HLS data represent the highest temporal frequency data available at medium spatial resolution. The combined observations will provide greater sensitivity to land changes, whether of large magnitude/short duration or small magnitude/long duration.\\r\\nThe OPERA_L3_DIST-ALERT-HLS (or DIST-ALERT) data product is provided in Cloud Optimized GeoTIFF (COG) format, and each layer is distributed as a separate file. There are 19 layers contained within the DIST-ALERT product. The layers for both vegetation and generic disturbance include disturbance status, loss or anomaly, maximum loss anomaly, disturbance confidence layer, date of disturbance, count of observations with loss anomalies, days of ongoing anomalies, and day of last disturbance detection. Additional layers are vegetation cover percent, historical percent vegetation cover, and data mask. See the Product Specification Document  for a more detailed description of the individual layers provided in the DIST-ALERT product.\\r\\n</td>\n",
       "      <td>[]</td>\n",
       "      <td>None</td>\n",
       "    </tr>\n",
       "    <tr>\n",
       "      <th>1</th>\n",
       "      <td>OPERA_L3_DIST-ANN-HLS_V1_1</td>\n",
       "      <td>https://cmr.earthdata.nasa.gov/stac/LPCLOUD</td>\n",
       "      <td>OPERA Land Surface Disturbance Annual from Harmonized Landsat Sentinel-2 product (Version 1)</td>\n",
       "      <td>[[-180, -90, 180, 90]]</td>\n",
       "      <td>[[2022-01-01T00:00:00Z, None]]</td>\n",
       "      <td>None</td>\n",
       "      <td>The Observational Products for End-Users from Remote Sensing Analysis (OPERA) Land Surface Disturbance Annual from Harmonized Landsat Sentinel-2 (HLS)  product Version 1 summarizes the DIST-ALERT data product into an annual vegetation disturbance data product. Vegetation disturbance is mapped when there is an indicated decrease in vegetation cover within an HLS Version 2 pixel. The product also provides auxiliary generic disturbance information as determined from the variations of the reflectance through the DIST-ALERT scenes to provide information about more general disturbance trends. The DIST-ANN product tracks changes at the annual scale, aggregating changes identified in the DIST-ALERT product. Only confirmed disturbances from the associated year are reported together with the date of initial disturbance. As confirmed disturbances are determined using subsequent cloud-free observations to determine if the loss detections persist, the required number of HLS scenes depends on visibility of the target. Due to this dependency, summarizing the DIST-ALERT in the DIST-ANN product will have some latency contingent on the algorithmic calibration and is detailed in the Algorithm Theoretical Basis Document (ATBD).\\r\\nThe OPERA_L3_DIST-ANN-HLS (or DIST-ANN) data product is provided in Cloud Optimized GeoTIFF (COG) format, and each layer is distributed as a separate COG. There are 21 layers contained within the DIST-ANN product: vegetation disturbance status, historical vegetation cover indicator, maximum vegetation cover indicator, maximum vegetation anomaly value, vegetation disturbance confidence layer, date of initial vegetation disturbance, number of detected vegetation loss anomalies, vegetation disturbance duration, date of last observation assessed for vegetation disturbance, and several generic disturbance layers. Each product layer is gridded to the same resolution and tiling system as HLS V2: 30 meter (m) and Military Grid Reference System (MGRS).  See the Product Specification Document (PSD) for a more detailed description of the individual layers provided in the DIST-ANN product. \\r\\n</td>\n",
       "      <td>[]</td>\n",
       "      <td>None</td>\n",
       "    </tr>\n",
       "  </tbody>\n",
       "</table>"
      ],
      "text/plain": [
       "<IPython.core.display.HTML object>"
      ]
     },
     "metadata": {},
     "output_type": "display_data"
    }
   ],
   "source": [
    "# search with a free-text filter but specify a different\n",
    "# set of STAC API URLs\n",
    "stac_api_urls = [\n",
    "    \"https://cmr.earthdata.nasa.gov/stac/LPCLOUD\",\n",
    "    \"https://earth-search.aws.element84.com/v1\"\n",
    "]\n",
    "search_request = httpx.get(\n",
    "    f\"{API_URL}/search\",\n",
    "    params={\n",
    "        \"stac_api_urls\": \",\".join(stac_api_urls),\n",
    "        \"q\": \"HLS disturbance\"\n",
    "    },\n",
    "    timeout=60,\n",
    ")\n",
    "search_request.raise_for_status()\n",
    "search_results = search_request.json()\n",
    "\n",
    "display(HTML(pd.DataFrame(search_results[\"results\"]).to_html()))"
   ]
  },
  {
   "cell_type": "code",
   "execution_count": null,
   "id": "50d9228a-6966-4eb9-a8c1-aa23f053c194",
   "metadata": {},
   "outputs": [],
   "source": []
  }
 ],
 "metadata": {
  "kernelspec": {
   "display_name": "Python 3 (ipykernel)",
   "language": "python",
   "name": "python3"
  },
  "language_info": {
   "codemirror_mode": {
    "name": "ipython",
    "version": 3
   },
   "file_extension": ".py",
   "mimetype": "text/x-python",
   "name": "python",
   "nbconvert_exporter": "python",
   "pygments_lexer": "ipython3",
   "version": "3.12.3"
  }
 },
 "nbformat": 4,
 "nbformat_minor": 5
}
